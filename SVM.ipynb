{
  "nbformat": 4,
  "nbformat_minor": 0,
  "metadata": {
    "colab": {
      "provenance": [],
      "authorship_tag": "ABX9TyNOf5JPCTyZCBiuuIbH53If",
      "include_colab_link": true
    },
    "kernelspec": {
      "name": "python3",
      "display_name": "Python 3"
    },
    "language_info": {
      "name": "python"
    }
  },
  "cells": [
    {
      "cell_type": "markdown",
      "metadata": {
        "id": "view-in-github",
        "colab_type": "text"
      },
      "source": [
        "<a href=\"https://colab.research.google.com/github/dhanya-10/AIML-ALGORITHMS/blob/master/SVM.ipynb\" target=\"_parent\"><img src=\"https://colab.research.google.com/assets/colab-badge.svg\" alt=\"Open In Colab\"/></a>"
      ]
    },
    {
      "cell_type": "code",
      "execution_count": 1,
      "metadata": {
        "colab": {
          "base_uri": "https://localhost:8080/"
        },
        "id": "QupAFxu2UO6S",
        "outputId": "e33831fd-e395-4509-e5a9-2684b0733668"
      },
      "outputs": [
        {
          "output_type": "stream",
          "name": "stdout",
          "text": [
            "   Feature1  Feature2\n",
            "3         6         8\n",
            "0         2         3\n",
            "6         5         4\n",
            "1         3         6\n",
            "7         9        10\n",
            "2        10         7\n",
            "3    1\n",
            "0    0\n",
            "6    0\n",
            "1    0\n",
            "7    1\n",
            "2    1\n",
            "Name: Label, dtype: int64\n",
            "   Feature1  Feature2\n",
            "5        11         9\n",
            "4         8         3\n",
            "5    1\n",
            "4    0\n",
            "Name: Label, dtype: int64\n",
            "Accuracy of the SVM model: 100.00%\n"
          ]
        }
      ],
      "source": [
        "# Importing necessary libraries\n",
        "import pandas as pd\n",
        "from sklearn.model_selection import train_test_split\n",
        "from sklearn.svm import SVC\n",
        "from sklearn.metrics import accuracy_score\n",
        "\n",
        "# Creating a simple DataFrame\n",
        "data = {\n",
        "    'Feature1': [2, 3, 10, 6, 8, 11, 5, 9],\n",
        "    'Feature2': [3, 6, 7, 8, 3, 9, 4, 10],\n",
        "    'Label': [0, 0, 1, 1, 0, 1, 0, 1]\n",
        "}\n",
        "\n",
        "df = pd.DataFrame(data)\n",
        "\n",
        "# Splitting features and labels\n",
        "X = df[['Feature1', 'Feature2']]  # Features\n",
        "y = df['Label']  # Labels\n",
        "\n",
        "# Split the dataset into training and testing sets (80% train, 20% test)\n",
        "X_train, X_test, y_train, y_test = train_test_split(X, y, test_size=0.2)\n",
        "print(X_train)\n",
        "print(y_train)\n",
        "print(X_test)\n",
        "print(y_test)\n",
        "\n",
        "# Initialize the Support Vector Classifier (SVC)\n",
        "svm = SVC(kernel='linear')\n",
        "\n",
        "# Train the model\n",
        "svm.fit(X_train, y_train)\n",
        "\n",
        "# Make predictions on the test set\n",
        "y_pred = svm.predict(X_test)\n",
        "\n",
        "# Calculate accuracy\n",
        "accuracy = accuracy_score(y_test, y_pred)\n",
        "\n",
        "print(f\"Accuracy of the SVM model: {accuracy * 100:.2f}%\")"
      ]
    }
  ]
}