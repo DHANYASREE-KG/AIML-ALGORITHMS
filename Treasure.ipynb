{
  "nbformat": 4,
  "nbformat_minor": 0,
  "metadata": {
    "colab": {
      "provenance": [],
      "authorship_tag": "ABX9TyMAuARoab0hpOp3g/5/B/+0",
      "include_colab_link": true
    },
    "kernelspec": {
      "name": "python3",
      "display_name": "Python 3"
    },
    "language_info": {
      "name": "python"
    }
  },
  "cells": [
    {
      "cell_type": "markdown",
      "metadata": {
        "id": "view-in-github",
        "colab_type": "text"
      },
      "source": [
        "<a href=\"https://colab.research.google.com/github/DHANYASREE-KG/AIML-ALGORITHMS/blob/master/Treasure.ipynb\" target=\"_parent\"><img src=\"https://colab.research.google.com/assets/colab-badge.svg\" alt=\"Open In Colab\"/></a>"
      ]
    },
    {
      "cell_type": "code",
      "execution_count": 2,
      "metadata": {
        "colab": {
          "base_uri": "https://localhost:8080/"
        },
        "id": "56WDKs3o2AOv",
        "outputId": "4007f8d3-7b82-4026-cdf1-e0bb594c6db7"
      },
      "outputs": [
        {
          "output_type": "stream",
          "name": "stdout",
          "text": [
            "BFS Path: ['S', 'X', 'Y', 'Z']\n",
            "DFS Path: ['S', 'P', 'Q', 'Z']\n"
          ]
        }
      ],
      "source": [
        "from collections import deque\n",
        "\n",
        "Graph = {\n",
        "'S': ['X', 'P'],\n",
        "'X': ['S', 'Y'],\n",
        "'Y': ['X', 'Z'],\n",
        "'P': ['S', 'Q'],\n",
        "'Q': ['P', 'Z'],\n",
        "'Z': ['Y', 'Q'] # Treasure\n",
        "}\n",
        "\n",
        "def bfs(start, goal):\n",
        "    visited = set()\n",
        "    queue = deque([[start]])\n",
        "    while queue:\n",
        "        path = queue.popleft()\n",
        "        node = path[-1]\n",
        "        if node == goal:\n",
        "            return path\n",
        "        if node not in visited:\n",
        "            for neighbor in Graph[node]: # Use Graph here instead of graph\n",
        "                queue.append(path + [neighbor])\n",
        "            visited.add(node)\n",
        "\n",
        "def dfs(start, goal):\n",
        "    visited = set()\n",
        "    stack = [[start]]\n",
        "    while stack:\n",
        "        path = stack.pop()\n",
        "        node = path[-1]\n",
        "        if node == goal:\n",
        "            return path\n",
        "        if node not in visited:\n",
        "            for neighbor in Graph[node]: # Use Graph here instead of graph\n",
        "                stack.append(path + [neighbor])\n",
        "            visited.add(node)\n",
        "\n",
        "print(\"BFS Path:\", bfs('S', 'Z'))\n",
        "print(\"DFS Path:\", dfs('S', 'Z'))"
      ]
    }
  ]
}