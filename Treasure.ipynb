from collections import deque

Graph = {
'S': ['X', 'P'],
'X': ['S', 'Y'],
'Y': ['X', 'Z'],
'P': ['S', 'Q'],
'Q': ['P', 'Z'],
'Z': ['Y', 'Q'] # Treasure
}

def bfs(start, goal):
    visited = set()
    queue = deque([[start]])
    while queue:
        path = queue.popleft()
        node = path[-1]
        if node == goal:
            return path
        if node not in visited:
            for neighbor in Graph[node]: # Use Graph here instead of graph
                queue.append(path + [neighbor])
            visited.add(node)

def dfs(start, goal):
    visited = set()
    stack = [[start]]
    while stack:
        path = stack.pop()
        node = path[-1]
        if node == goal:
            return path
        if node not in visited:
            for neighbor in Graph[node]: # Use Graph here instead of graph
                stack.append(path + [neighbor])
            visited.add(node)

print("BFS Path:", bfs('S', 'Z'))
print("DFS Path:", dfs('S', 'Z'))
