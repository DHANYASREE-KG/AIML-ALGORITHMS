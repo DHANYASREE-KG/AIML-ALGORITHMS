{
  "nbformat": 4,
  "nbformat_minor": 0,
  "metadata": {
    "colab": {
      "provenance": [],
      "authorship_tag": "ABX9TyNTS4Jjp8KM8JGiTJrfHn6y",
      "include_colab_link": true
    },
    "kernelspec": {
      "name": "python3",
      "display_name": "Python 3"
    },
    "language_info": {
      "name": "python"
    }
  },
  "cells": [
    {
      "cell_type": "markdown",
      "metadata": {
        "id": "view-in-github",
        "colab_type": "text"
      },
      "source": [
        "<a href=\"https://colab.research.google.com/github/dhanya-10/AIML-ALGORITHMS/blob/master/bayesian_network_diagnosis.ipynb\" target=\"_parent\"><img src=\"https://colab.research.google.com/assets/colab-badge.svg\" alt=\"Open In Colab\"/></a>"
      ]
    },
    {
      "cell_type": "code",
      "execution_count": 1,
      "metadata": {
        "colab": {
          "base_uri": "https://localhost:8080/"
        },
        "id": "ha_fP3aXC5so",
        "outputId": "a843d525-bd3f-4f24-a0e2-c6bf591de0f6"
      },
      "outputs": [
        {
          "output_type": "stream",
          "name": "stdout",
          "text": [
            "Symptom | Obs | P(obs|Flu) | P(obs|¬Flu)\n",
            "--------+-----+-----------+-----------\n",
            "   F    |  1  |   0.850   |   0.200  \n",
            "   C    |  1  |   0.750   |   0.300  \n",
            "   B    |  0  |   0.400   |   0.900  \n",
            "\n",
            "P(Obs|Flu) = 0.255\n",
            "P(Obs|¬Flu) = 0.054\n",
            "Prior P(Flu) = 0.15\n",
            "\n",
            "Posterior P(Flu | Obs) = 0.454545\n"
          ]
        },
        {
          "output_type": "execute_result",
          "data": {
            "text/plain": [
              "0.45454545454545453"
            ]
          },
          "metadata": {},
          "execution_count": 1
        }
      ],
      "source": [
        "\n",
        "# Disease: Flu\n",
        "# Symptoms: Fever(F), Cough(C), BodyAche(B)\n",
        "# Unique priors/likelihoods and an observation set: F=1, C=1, B=0\n",
        "\n",
        "P_flu = 0.15\n",
        "lik = {\n",
        "    'F': {1: {'flu': 0.85, 'not': 0.20}, 0: {'flu': 0.15, 'not': 0.80}},\n",
        "    'C': {1: {'flu': 0.75, 'not': 0.30}, 0: {'flu': 0.25, 'not': 0.70}},\n",
        "    'B': {1: {'flu': 0.60, 'not': 0.10}, 0: {'flu': 0.40, 'not': 0.90}},\n",
        "}\n",
        "obs = {'F': 1, 'C': 1, 'B': 0}  # observed symptoms\n",
        "\n",
        "def posterior_flu(obs):\n",
        "    # Likelihood under hypotheses\n",
        "    like_flu = 1.0\n",
        "    like_not = 1.0\n",
        "    print(\"Symptom | Obs | P(obs|Flu) | P(obs|¬Flu)\")\n",
        "    print(\"--------+-----+-----------+-----------\")\n",
        "    for s, val in obs.items():\n",
        "        pf = lik[s][val]['flu']\n",
        "        pn = lik[s][val]['not']\n",
        "        like_flu *= pf\n",
        "        like_not *= pn\n",
        "        print(f\"{s:^7} | {val:^3} | {pf:^9.3f} | {pn:^9.3f}\")\n",
        "\n",
        "    num = like_flu * P_flu\n",
        "    den = num + like_not * (1 - P_flu)\n",
        "    post = num / den\n",
        "    print(\"\\nP(Obs|Flu) =\", round(like_flu, 6))\n",
        "    print(\"P(Obs|¬Flu) =\", round(like_not, 6))\n",
        "    print(\"Prior P(Flu) =\", P_flu)\n",
        "    print(\"\\nPosterior P(Flu | Obs) =\", round(post, 6))\n",
        "    return post\n",
        "\n",
        "posterior_flu(obs)"
      ]
    }
  ]
}