{
  "nbformat": 4,
  "nbformat_minor": 0,
  "metadata": {
    "colab": {
      "provenance": [],
      "authorship_tag": "ABX9TyMYIn/8qH/MZhMSnefU7U5j",
      "include_colab_link": true
    },
    "kernelspec": {
      "name": "python3",
      "display_name": "Python 3"
    },
    "language_info": {
      "name": "python"
    }
  },
  "cells": [
    {
      "cell_type": "markdown",
      "metadata": {
        "id": "view-in-github",
        "colab_type": "text"
      },
      "source": [
        "<a href=\"https://colab.research.google.com/github/DHANYASREE-KG/AIML-ALGORITHMS/blob/master/Treasure_py.ipynb\" target=\"_parent\"><img src=\"https://colab.research.google.com/assets/colab-badge.svg\" alt=\"Open In Colab\"/></a>"
      ]
    },
    {
      "cell_type": "code",
      "execution_count": 5,
      "metadata": {
        "colab": {
          "base_uri": "https://localhost:8080/"
        },
        "id": "56WDKs3o2AOv",
        "outputId": "5da66ef0-9460-45e2-cdb3-0146bd46d210"
      },
      "outputs": [
        {
          "output_type": "stream",
          "name": "stdout",
          "text": [
            "A* Path: ['S', 'A', 'B', 'G'] with cost = 9\n"
          ]
        }
      ],
      "source": [
        "import heapq\n",
        "\n",
        "Graph = {\n",
        "'S': {'A': 2, 'C': 5},\n",
        "'A': {'S': 2, 'B': 4, 'C': 2},\n",
        "'B': {'A': 4, 'G': 3, 'C': 4},\n",
        "'C': {'S': 5, 'A': 2, 'B': 4},\n",
        "'G': {'B': 3}\n",
        "}\n",
        "\n",
        "#Heuristic values\n",
        "H = {'S': 7, 'A': 6, 'B': 2, 'C': 5, 'G': 0}\n",
        "\n",
        "def astar(start, goal):\n",
        "    pq = [(H[start], 0, [start])] # (f, g, path)\n",
        "\n",
        "    while pq:\n",
        "        f, g, path = heapq.heappop(pq)\n",
        "        node = path[-1]\n",
        "\n",
        "        if node == goal:\n",
        "            return path, g\n",
        "\n",
        "        for neighbor, cost in Graph[node].items():\n",
        "            new_g = g + cost\n",
        "            new_f = new_g + H[neighbor]\n",
        "            heapq.heappush(pq, (new_f, new_g, path + [neighbor]))\n",
        "    return None, None # Return None if no path found\n",
        "\n",
        "\n",
        "path, dist = astar('S', 'G')\n",
        "print(\"A* Path:\", path, \"with cost =\", dist)"
      ]
    }
  ]
}